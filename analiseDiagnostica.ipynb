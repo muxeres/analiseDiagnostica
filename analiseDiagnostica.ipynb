{
  "nbformat": 4,
  "nbformat_minor": 0,
  "metadata": {
    "colab": {
      "provenance": [],
      "authorship_tag": "ABX9TyNRgobGdJycJK1IOsSz0yBz",
      "include_colab_link": true
    },
    "kernelspec": {
      "name": "python3",
      "display_name": "Python 3"
    },
    "language_info": {
      "name": "python"
    }
  },
  "cells": [
    {
      "cell_type": "markdown",
      "metadata": {
        "id": "view-in-github",
        "colab_type": "text"
      },
      "source": [
        "<a href=\"https://colab.research.google.com/github/muxeres/BOOTCAMP/blob/master/analiseDiagnostica.ipynb\" target=\"_parent\"><img src=\"https://colab.research.google.com/assets/colab-badge.svg\" alt=\"Open In Colab\"/></a>"
      ]
    },
    {
      "cell_type": "code",
      "execution_count": null,
      "metadata": {
        "id": "bEslaCfIHwly"
      },
      "outputs": [],
      "source": [
        "#ANÁLISE DIAGNÓSTICA – ETAPA 2 Disciplina: Segurança da Tecnologia da Informação\n",
        "#1. Lista de Filmes Favoritos\n",
        "# Criação de uma lista vazia\n",
        "filmes_favoritos = []\n",
        "\n",
        "# Adicionando 5 filmes na lista\n",
        "i = 0\n",
        "while i < 5:\n",
        "    filme = input(\"Digite o nome do filme: \")\n",
        "    filmes_favoritos.append(filme)\n",
        "    i += 1\n",
        "\n",
        "# Imprimindo os filmes e suas posições na lista\n",
        "print(\"\\nLista de Filmes Favoritos:\")\n",
        "for idx, filme in enumerate(filmes_favoritos):\n",
        "    print(f\"{idx + 1}. {filme}\")\n",
        "#2. Lista de Material Escolar\n",
        "\n",
        "# Criação do primeiro dicionário com 3 itens escolares\n",
        "material_escolar_1 = {}\n",
        "i = 0\n",
        "while i < 3:\n",
        "    codigo = input(\"Digite o código do produto: \")\n",
        "    tipo = input(\"Digite o tipo do material: \")\n",
        "    material_escolar_1[codigo] = tipo\n",
        "    i += 1\n",
        "\n",
        "# Criação do segundo dicionário vazio\n",
        "material_escolar_2 = {}\n",
        "\n",
        "# Adicionando 5 elementos no segundo dicionário\n",
        "i = 0\n",
        "while i < 5:\n",
        "    codigo = input(\"Digite o código do produto: \")\n",
        "    tipo = input(\"Digite o tipo do material: \")\n",
        "    material_escolar_2[codigo] = tipo\n",
        "    i += 1\n",
        "\n",
        "# Atualizando o primeiro dicionário com o conteúdo do segundo\n",
        "material_escolar_1.update(material_escolar_2)\n",
        "\n",
        "# Imprimindo todos os elementos da lista\n",
        "print(\"\\nLista de Material Escolar Atualizada:\")\n",
        "for codigo, tipo in material_escolar_1.items():\n",
        "    print(f\"Código: {codigo}, Tipo: {tipo}\")\n",
        "#3. Sistema de Cadastro de Alunos\n",
        "\n",
        "# Estrutura lista para adicionar os dados dos alunos\n",
        "dados_alunos = []\n",
        "\n",
        "# Estrutura dicionário para armazenar os dados de cada aluno associado a uma chave (matrícula)\n",
        "cadastro_alunos = {}\n",
        "\n",
        "# Cadastro de cinco alunos no sistema\n",
        "for _ in range(5):\n",
        "    matricula = input(\"Adicione um valor para matrícula: \")\n",
        "    nome = input(\"Adicione um valor para nome: \")\n",
        "    sobrenome = input(\"Adicione um valor para sobrenome: \")\n",
        "    email = input(\"Adicione um valor para e-mail: \")\n",
        "\n",
        "    # Armazenando os dados do aluno na lista\n",
        "    dados_aluno = [nome, sobrenome, email]\n",
        "\n",
        "    # Associando a lista de dados ao número de matrícula no dicionário\n",
        "    cadastro_alunos[matricula] = dados_aluno\n",
        "\n",
        "# Imprimindo os dados de todos os alunos e suas matrículas\n",
        "print(\"\\nDados dos Alunos Cadastrados:\")\n",
        "for matricula, dados in cadastro_alunos.items():\n",
        "    nome, sobrenome, email = dados\n",
        "    print(f\"Matrícula: {matricula}, Nome: {nome} {sobrenome}, Email: {email}\")\n",
        "#Resumo\n",
        "#Lista de Filmes Favoritos: Usa uma lista e while para adicionar filmes, e for com enumerate para imprimir a lista.\n",
        "#Lista de Material Escolar: Usa dois dicionários para armazenar itens, atualizando um com o conteúdo do outro e imprimindo todos os itens.\n",
        "#Sistema de Cadastro de Alunos: Usa uma lista e um dicionário para armazenar dados dos alunos e suas matrículas, imprimindo os dados no final"
      ]
    }
  ]
}